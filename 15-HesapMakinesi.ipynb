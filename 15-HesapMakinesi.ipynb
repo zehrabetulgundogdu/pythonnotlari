{
 "cells": [
  {
   "cell_type": "code",
   "execution_count": null,
   "metadata": {},
   "outputs": [],
   "source": [
    "def hesapla(a,b,islem):\n",
    "    if islem not in \"+-*/\":\n",
    "        return \"Lütfen şu işlemlerden birisini seçiniz: +-*/\"\n",
    "    if islem==\"+\":\n",
    "        return (str(a)+\"+\"+str(b)+\"=\"+str(a+b))\n",
    "    if islem==\"-\":\n",
    "        return (str(a)+\"-\"+str(b)+\"=\"+str(a-b))\n",
    "    if islem==\"*\":\n",
    "        return (str(a)+\"*\"+str(b)+\"=\"+str(a*b))\n",
    "    if islem==\"/\":\n",
    "        return (str(a)+\"/\"+str(b)+\"=\"+str(a/b))\n",
    "    \n",
    "while True:\n",
    "    try:\n",
    "        a= int(input(\"ilk sayıyı seçiniz: \"))\n",
    "        b= int(input(\"ikinci sayıyı giriniz: \"))\n",
    "        islem= input(\"işleminizi giriniz +-*/: \")\n",
    "        print(hesapla(a,b,islem))\n",
    "    except:\n",
    "        print(\"Lütfen sayıları düzgün giriniz\")"
   ]
  },
  {
   "cell_type": "code",
   "execution_count": null,
   "metadata": {},
   "outputs": [],
   "source": []
  },
  {
   "cell_type": "code",
   "execution_count": null,
   "metadata": {},
   "outputs": [],
   "source": []
  },
  {
   "cell_type": "code",
   "execution_count": null,
   "metadata": {},
   "outputs": [],
   "source": []
  }
 ],
 "metadata": {
  "kernelspec": {
   "display_name": "Python 3",
   "language": "python",
   "name": "python3"
  },
  "language_info": {
   "codemirror_mode": {
    "name": "ipython",
    "version": 3
   },
   "file_extension": ".py",
   "mimetype": "text/x-python",
   "name": "python",
   "nbconvert_exporter": "python",
   "pygments_lexer": "ipython3",
   "version": "3.8.5"
  }
 },
 "nbformat": 4,
 "nbformat_minor": 4
}
