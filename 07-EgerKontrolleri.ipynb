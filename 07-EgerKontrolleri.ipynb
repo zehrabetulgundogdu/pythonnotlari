{
 "cells": [
  {
   "cell_type": "code",
   "execution_count": 1,
   "metadata": {},
   "outputs": [
    {
     "data": {
      "text/plain": [
       "True"
      ]
     },
     "execution_count": 1,
     "metadata": {},
     "output_type": "execute_result"
    }
   ],
   "source": [
    "3>1"
   ]
  },
  {
   "cell_type": "code",
   "execution_count": 3,
   "metadata": {},
   "outputs": [
    {
     "name": "stdout",
     "output_type": "stream",
     "text": [
      "zehra betül gündoğdu\n"
     ]
    }
   ],
   "source": [
    "if 3>1:\n",
    "    print(\"zehra betül gündoğdu\")"
   ]
  },
  {
   "cell_type": "code",
   "execution_count": 6,
   "metadata": {},
   "outputs": [
    {
     "name": "stdout",
     "output_type": "stream",
     "text": [
      "if koşulunun dışına çıktık\n"
     ]
    }
   ],
   "source": [
    "if 3>4 : \n",
    "    print(\"zehra betül gündoğdu\")\n",
    "    print(\"if koşulu sağlandı\")\n",
    "print(\"if koşulunun dışına çıktık\")    "
   ]
  },
  {
   "cell_type": "code",
   "execution_count": 7,
   "metadata": {},
   "outputs": [],
   "source": [
    "x=5\n",
    "y=4"
   ]
  },
  {
   "cell_type": "code",
   "execution_count": 8,
   "metadata": {},
   "outputs": [
    {
     "name": "stdout",
     "output_type": "stream",
     "text": [
      "x, y'den büyükmüş\n"
     ]
    }
   ],
   "source": [
    "if x>y :\n",
    "    print(\"x, y'den büyükmüş\")"
   ]
  },
  {
   "cell_type": "code",
   "execution_count": 30,
   "metadata": {},
   "outputs": [],
   "source": [
    "x=1"
   ]
  },
  {
   "cell_type": "code",
   "execution_count": 31,
   "metadata": {},
   "outputs": [],
   "source": [
    "y=3"
   ]
  },
  {
   "cell_type": "code",
   "execution_count": 32,
   "metadata": {},
   "outputs": [
    {
     "name": "stdout",
     "output_type": "stream",
     "text": [
      "y, x'den büyükmüş\n"
     ]
    }
   ],
   "source": [
    "if  x > y:\n",
    "    print(\"x, y'den büyükmüş\")\n",
    "elif  y > x :\n",
    "    print(\"y, x'den büyükmüş\")\n",
    "else:\n",
    "    print(\"y ve x birbirine eşitmiş\")"
   ]
  },
  {
   "cell_type": "code",
   "execution_count": 45,
   "metadata": {},
   "outputs": [
    {
     "name": "stdout",
     "output_type": "stream",
     "text": [
      "Bir Kahraman Giriniz: Batman\n"
     ]
    }
   ],
   "source": [
    "benimKahramanim = input(\"Bir Kahraman Giriniz: \")"
   ]
  },
  {
   "cell_type": "code",
   "execution_count": 46,
   "metadata": {},
   "outputs": [
    {
     "name": "stdout",
     "output_type": "stream",
     "text": [
      "Batman'i seçtiniz tebrikler\n"
     ]
    }
   ],
   "source": [
    "if benimKahramanim==\"Batman\":\n",
    "    print(\"Batman'i seçtiniz tebrikler\")\n",
    "elif benimKahramanim==\"Superman\":\n",
    "    print(\"Keske Batman'i seçseydiniz\")\n",
    "elif benimKahramanim==\"Ironman\":\n",
    "    print(\"Ironman Kimdir?\")\n",
    "else:\n",
    "    print(\"Bu kim gerçekten bilmiyoruz\")"
   ]
  },
  {
   "cell_type": "code",
   "execution_count": 51,
   "metadata": {},
   "outputs": [],
   "source": [
    "a=10\n",
    "b=20\n",
    "c=20"
   ]
  },
  {
   "cell_type": "code",
   "execution_count": 52,
   "metadata": {},
   "outputs": [
    {
     "name": "stdout",
     "output_type": "stream",
     "text": [
      "bu koşullar sağlanmadı\n"
     ]
    }
   ],
   "source": [
    "if a > b and b > c:\n",
    "    print(\"a, b'den büyük ve b de c'den büyüktür\")\n",
    "elif a<b and b<c:\n",
    "    print(\"a, b'den küçük ve b de c'den küçüktür\")\n",
    "else:\n",
    "    print(\"bu koşullar sağlanmadı\")"
   ]
  },
  {
   "cell_type": "code",
   "execution_count": 53,
   "metadata": {},
   "outputs": [],
   "source": [
    "karakterCanli= True"
   ]
  },
  {
   "cell_type": "code",
   "execution_count": 54,
   "metadata": {},
   "outputs": [
    {
     "name": "stdout",
     "output_type": "stream",
     "text": [
      "karakteriniz yaşıyor\n"
     ]
    }
   ],
   "source": [
    "if karakterCanli ==True:\n",
    "    print(\"karakteriniz yaşıyor\")\n",
    "else:\n",
    "    print(\"karakteriniz yaşamıyor\")\n",
    "    "
   ]
  },
  {
   "cell_type": "code",
   "execution_count": 55,
   "metadata": {},
   "outputs": [
    {
     "name": "stdout",
     "output_type": "stream",
     "text": [
      "karakteriniz yaşıyor\n"
     ]
    }
   ],
   "source": [
    "if karakterCanli:\n",
    "    print(\"karakteriniz yaşıyor\")\n",
    "else:\n",
    "    print(\"karakteriniz yaşamıyor\")"
   ]
  },
  {
   "cell_type": "code",
   "execution_count": 56,
   "metadata": {},
   "outputs": [],
   "source": [
    "benimString=\"Zehra Betül Gündoğdu\""
   ]
  },
  {
   "cell_type": "code",
   "execution_count": 58,
   "metadata": {},
   "outputs": [
    {
     "name": "stdout",
     "output_type": "stream",
     "text": [
      "eşit değilmiş\n"
     ]
    }
   ],
   "source": [
    "if benimString==\"zehra betül gündoğdu\":\n",
    "    print(\"eşitmiş\")\n",
    "else:\n",
    "    print(\"eşit değilmiş\")"
   ]
  },
  {
   "cell_type": "code",
   "execution_count": 60,
   "metadata": {},
   "outputs": [
    {
     "name": "stdout",
     "output_type": "stream",
     "text": [
      "varmış\n"
     ]
    }
   ],
   "source": [
    "if \"Gündoğdu\" in benimString:\n",
    "    print(\"varmış\")\n",
    "else:\n",
    "    print(\"yokmuş\")"
   ]
  },
  {
   "cell_type": "code",
   "execution_count": 61,
   "metadata": {},
   "outputs": [],
   "source": [
    "benimListem=[10,20,30,40,50]"
   ]
  },
  {
   "cell_type": "code",
   "execution_count": 62,
   "metadata": {},
   "outputs": [
    {
     "name": "stdout",
     "output_type": "stream",
     "text": [
      "yok\n"
     ]
    }
   ],
   "source": [
    "if 60 in benimListem:\n",
    "    print(\"evet var\")\n",
    "else:\n",
    "    print(\"yok\")"
   ]
  },
  {
   "cell_type": "code",
   "execution_count": 63,
   "metadata": {},
   "outputs": [],
   "source": [
    "benimSozluk={\"muz\":10,\"elma\":15,\"karpuz\":50}"
   ]
  },
  {
   "cell_type": "code",
   "execution_count": 64,
   "metadata": {},
   "outputs": [
    {
     "name": "stdout",
     "output_type": "stream",
     "text": [
      "varmış\n"
     ]
    }
   ],
   "source": [
    "if \"muz\" in benimSozluk.keys():\n",
    "    print(\"varmış\")\n",
    "else:\n",
    "    print(\"yokmuş\")"
   ]
  },
  {
   "cell_type": "code",
   "execution_count": 66,
   "metadata": {},
   "outputs": [
    {
     "name": "stdout",
     "output_type": "stream",
     "text": [
      "evet\n"
     ]
    }
   ],
   "source": [
    "if 50 in benimSozluk.values():\n",
    "    print(\"evet\")"
   ]
  },
  {
   "cell_type": "code",
   "execution_count": null,
   "metadata": {},
   "outputs": [],
   "source": []
  }
 ],
 "metadata": {
  "kernelspec": {
   "display_name": "Python 3",
   "language": "python",
   "name": "python3"
  },
  "language_info": {
   "codemirror_mode": {
    "name": "ipython",
    "version": 3
   },
   "file_extension": ".py",
   "mimetype": "text/x-python",
   "name": "python",
   "nbconvert_exporter": "python",
   "pygments_lexer": "ipython3",
   "version": "3.8.5"
  }
 },
 "nbformat": 4,
 "nbformat_minor": 4
}
